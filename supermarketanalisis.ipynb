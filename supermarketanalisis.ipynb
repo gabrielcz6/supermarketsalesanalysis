{
  "nbformat": 4,
  "nbformat_minor": 0,
  "metadata": {
    "colab": {
      "provenance": [],
      "include_colab_link": true
    },
    "kernelspec": {
      "name": "python3",
      "display_name": "Python 3"
    },
    "language_info": {
      "name": "python"
    }
  },
  "cells": [
    {
      "cell_type": "markdown",
      "metadata": {
        "id": "view-in-github",
        "colab_type": "text"
      },
      "source": [
        "<a href=\"https://colab.research.google.com/github/gabrielcz6/supermarketsalesanalysis/blob/main/supermarketanalisis.ipynb\" target=\"_parent\"><img src=\"https://colab.research.google.com/assets/colab-badge.svg\" alt=\"Open In Colab\"/></a>"
      ]
    },
    {
      "cell_type": "markdown",
      "source": [
        "**Variables**"
      ],
      "metadata": {
        "id": "YGXmRyZR6VrJ"
      }
    },
    {
      "cell_type": "code",
      "source": [
        "global df_ventas, df_ventas_limpio"
      ],
      "metadata": {
        "id": "M2Hf1WzD3oIl"
      },
      "execution_count": null,
      "outputs": []
    },
    {
      "cell_type": "markdown",
      "source": [
        "**Librerías**"
      ],
      "metadata": {
        "id": "cfqNf36W48Bq"
      }
    },
    {
      "cell_type": "code",
      "source": [
        "import pandas as pd\n",
        "import matplotlib.pyplot as plt\n",
        "import matplotlib.dates as mdates"
      ],
      "metadata": {
        "id": "b8gnCCct5J_f"
      },
      "execution_count": null,
      "outputs": []
    },
    {
      "cell_type": "markdown",
      "source": [
        "**Obtención de Datos**"
      ],
      "metadata": {
        "id": "d8Er7E477UkN"
      }
    },
    {
      "cell_type": "code",
      "source": [
        "import pandas as pd\n",
        "\n",
        "df_ventas = None\n",
        "df_ventas_limpio = None\n",
        "\n",
        "def obtencion_datos():\n",
        "    global df_ventas\n",
        "    df_ventas = pd.DataFrame({\n",
        "        'fecha_pedido': ['2021-01-01', '2021-01-02', '2021-01-03'],\n",
        "        'fecha_envio': ['2021-01-05', '2021-01-06', '2021-01-07'],\n",
        "        'nombre_cliente': ['Cliente A', 'prueba', None],\n",
        "        'total_ganancia': [100, 0, None]\n",
        "    })  # Datos simulados para la demostración\n",
        "\n",
        "def formatear_columnas_fechas():\n",
        "    global df_ventas\n",
        "    df_ventas['fecha_pedido'] = pd.to_datetime(df_ventas['fecha_pedido'], format='%Y-%m-%d')\n",
        "    df_ventas['fecha_envio'] = pd.to_datetime(df_ventas['fecha_envio'], format='%Y-%m-%d')\n",
        "    print(\"\\nDataFrame después de formatear columnas de fechas:\")\n",
        "    print(df_ventas)\n",
        "\n",
        "def eliminar_repetidos():\n",
        "    global df_ventas_limpio\n",
        "    df_ventas_limpio = df_ventas.drop_duplicates()\n",
        "    print(\"\\nDataFrame después de eliminar registros duplicados:\")\n",
        "    print(df_ventas_limpio)\n",
        "\n",
        "def eliminar_filas():\n",
        "    global df_ventas_limpio\n",
        "    df_ventas_limpio = df_ventas_limpio[df_ventas_limpio['nombre_cliente'] != 'prueba']\n",
        "    print(\"\\nDataFrame después de eliminar filas con 'nombre_cliente' igual a 'prueba':\")\n",
        "    print(df_ventas_limpio)\n",
        "\n",
        "def eliminar_registros_nulos():\n",
        "    global df_ventas_limpio\n",
        "    df_ventas_limpio = df_ventas_limpio.dropna(subset=['nombre_cliente'])\n",
        "    print(\"\\nDataFrame después de eliminar registros nulos en 'nombre_cliente':\")\n",
        "    print(df_ventas_limpio)\n",
        "\n",
        "def filtrar_operaciones_con_ganancia():\n",
        "    global df_ventas_limpio\n",
        "    df_ventas_limpio = df_ventas_limpio[df_ventas_limpio['total_ganancia'] > 0]\n",
        "    print(\"\\nDataFrame después de filtrar operaciones sin ganancia:\")\n",
        "    print(df_ventas_limpio)\n",
        "\n",
        "def resetear_indice():\n",
        "    global df_ventas_limpio\n",
        "    df_ventas_limpio = df_ventas_limpio.reset_index(drop=True)\n",
        "    print(\"\\nDataFrame después de resetear el índice:\")\n",
        "    print(df_ventas_limpio)\n",
        "\n",
        "obtencion_datos()\n",
        "formatear_columnas_fechas()\n",
        "eliminar_repetidos()\n",
        "eliminar_filas()\n",
        "eliminar_registros_nulos()\n",
        "filtrar_operaciones_con_ganancia()\n",
        "resetear_indice()\n",
        "\n",
        "print(\"\\nDataFrame final 'df_ventas_limpio':\")\n",
        "print(df_ventas_limpio)\n",
        "\n"
      ],
      "metadata": {
        "id": "zrF-7xvo7Sin",
        "colab": {
          "base_uri": "https://localhost:8080/"
        },
        "outputId": "7a7e82a7-2808-4273-93aa-b90448a5cce7"
      },
      "execution_count": 54,
      "outputs": [
        {
          "output_type": "stream",
          "name": "stdout",
          "text": [
            "\n",
            "DataFrame después de formatear columnas de fechas:\n",
            "  fecha_pedido fecha_envio nombre_cliente  total_ganancia\n",
            "0   2021-01-01  2021-01-05      Cliente A           100.0\n",
            "1   2021-01-02  2021-01-06         prueba             0.0\n",
            "2   2021-01-03  2021-01-07           None             NaN\n",
            "\n",
            "DataFrame después de eliminar registros duplicados:\n",
            "  fecha_pedido fecha_envio nombre_cliente  total_ganancia\n",
            "0   2021-01-01  2021-01-05      Cliente A           100.0\n",
            "1   2021-01-02  2021-01-06         prueba             0.0\n",
            "2   2021-01-03  2021-01-07           None             NaN\n",
            "\n",
            "DataFrame después de eliminar filas con 'nombre_cliente' igual a 'prueba':\n",
            "  fecha_pedido fecha_envio nombre_cliente  total_ganancia\n",
            "0   2021-01-01  2021-01-05      Cliente A           100.0\n",
            "2   2021-01-03  2021-01-07           None             NaN\n",
            "\n",
            "DataFrame después de eliminar registros nulos en 'nombre_cliente':\n",
            "  fecha_pedido fecha_envio nombre_cliente  total_ganancia\n",
            "0   2021-01-01  2021-01-05      Cliente A           100.0\n",
            "\n",
            "DataFrame después de filtrar operaciones sin ganancia:\n",
            "  fecha_pedido fecha_envio nombre_cliente  total_ganancia\n",
            "0   2021-01-01  2021-01-05      Cliente A           100.0\n",
            "\n",
            "DataFrame después de resetear el índice:\n",
            "  fecha_pedido fecha_envio nombre_cliente  total_ganancia\n",
            "0   2021-01-01  2021-01-05      Cliente A           100.0\n",
            "\n",
            "DataFrame final 'df_ventas_limpio':\n",
            "  fecha_pedido fecha_envio nombre_cliente  total_ganancia\n",
            "0   2021-01-01  2021-01-05      Cliente A           100.0\n"
          ]
        }
      ]
    }
  ]
}