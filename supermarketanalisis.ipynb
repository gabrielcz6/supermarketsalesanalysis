{
  "nbformat": 4,
  "nbformat_minor": 0,
  "metadata": {
    "colab": {
      "provenance": [],
      "include_colab_link": true
    },
    "kernelspec": {
      "name": "python3",
      "display_name": "Python 3"
    },
    "language_info": {
      "name": "python"
    }
  },
  "cells": [
    {
      "cell_type": "markdown",
      "metadata": {
        "id": "view-in-github",
        "colab_type": "text"
      },
      "source": [
        "<a href=\"https://colab.research.google.com/github/gabrielcz6/supermarketsalesanalysis/blob/main/supermarketanalisis.ipynb\" target=\"_parent\"><img src=\"https://colab.research.google.com/assets/colab-badge.svg\" alt=\"Open In Colab\"/></a>"
      ]
    },
    {
      "cell_type": "code",
      "execution_count": null,
      "metadata": {
        "id": "eHnZJ3VksHqy",
        "colab": {
          "base_uri": "https://localhost:8080/"
        },
        "outputId": "f2f3a518-17af-406b-dc1a-1b62c2e4072b"
      },
      "outputs": [
        {
          "output_type": "stream",
          "name": "stdout",
          "text": [
            "hello\n"
          ]
        }
      ],
      "source": [
        "print(\"hello\")\n",
        "\n",
        "\n",
        "print(\"Prueba de Edison\")\n",
        "print(\"edicion2prueba\")"
      ]
    },
    {
      "cell_type": "code",
      "source": [
        "print (\"Prueba de julio\")"
      ],
      "metadata": {
        "id": "ASBwteSJvjXV",
        "outputId": "a17f8a0a-73b6-4975-b4b5-64689267c3b5",
        "colab": {
          "base_uri": "https://localhost:8080/"
        }
      },
      "execution_count": null,
      "outputs": [
        {
          "output_type": "stream",
          "name": "stdout",
          "text": [
            "Prueba de julio\n"
          ]
        }
      ]
    }
  ]
}