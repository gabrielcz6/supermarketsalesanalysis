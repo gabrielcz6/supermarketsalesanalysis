{
  "nbformat": 4,
  "nbformat_minor": 0,
  "metadata": {
    "colab": {
      "provenance": [],
      "include_colab_link": true
    },
    "kernelspec": {
      "name": "python3",
      "display_name": "Python 3"
    },
    "language_info": {
      "name": "python"
    }
  },
  "cells": [
    {
      "cell_type": "markdown",
      "metadata": {
        "id": "view-in-github",
        "colab_type": "text"
      },
      "source": [
        "<a href=\"https://colab.research.google.com/github/gabrielcz6/supermarketsalesanalysis/blob/main/supermarketanalisis.ipynb\" target=\"_parent\"><img src=\"https://colab.research.google.com/assets/colab-badge.svg\" alt=\"Open In Colab\"/></a>"
      ]
    },
    {
      "cell_type": "markdown",
      "source": [
        "**Variables**"
      ],
      "metadata": {
        "id": "YGXmRyZR6VrJ"
      }
    },
    {
      "cell_type": "code",
      "source": [
        "global df_ventas, df_ventas_limpio"
      ],
      "metadata": {
        "id": "M2Hf1WzD3oIl"
      },
      "execution_count": 7,
      "outputs": []
    },
    {
      "cell_type": "markdown",
      "source": [
        "**Librerías**"
      ],
      "metadata": {
        "id": "cfqNf36W48Bq"
      }
    },
    {
      "cell_type": "code",
      "source": [
        "import pandas as pd\n",
        "import matplotlib.pyplot as plt\n",
        "import matplotlib.dates as mdates"
      ],
      "metadata": {
        "id": "b8gnCCct5J_f"
      },
      "execution_count": 15,
      "outputs": []
    },
    {
      "cell_type": "markdown",
      "source": [
        "**Obtención de Datos**"
      ],
      "metadata": {
        "id": "d8Er7E477UkN"
      }
    },
    {
      "cell_type": "code",
      "source": [
        "def obtencion_datos():\n",
        "    global df_ventas\n",
        "    df_ventas = pd.read_csv(\"reporte_ventas.csv\")\n",
        "\n",
        "\n",
        "def formatear_columnas_fechas():\n",
        "    df_ventas\n",
        "    df_ventas['fecha_pedido'] = pd.to_datetime(df_ventas['fecha_pedido'], format='%Y-%m-%d')\n",
        "    df_ventas['fecha_envio'] = pd.to_datetime(df_ventas['fecha_envio'], format='%Y-%m-%d')\n",
        "\n",
        "    obtencion_datos()\n",
        "    formatear_columnas_fechas()\n",
        "\n",
        "\n",
        "def Eliminar_repetidos():\n",
        "    df_ventas_limpio\n",
        "    df_ventas_limpio = df_ventas.drop_duplicates()\n",
        "    Eliminar_repetidos()\n",
        "\n",
        "\n",
        "def Eliminar_Filas ():\n",
        "    df_ventas_limpio\n",
        "    df_ventas_limpio = df_ventas_limpio[df_ventas_limpio['nombre_cliente'] != 'prueba']\n",
        "    Eliminar_Filas()\n",
        "\n",
        "\n",
        "def eliminar_registros_nulos():\n",
        "    df_ventas_limpio\n",
        "    df_ventas_limpio = df_ventas_limpio.dropna(subset=['nombre_cliente'])\n",
        "    eliminar_registros_nulos()\n",
        "\n",
        "\n",
        "def filtrar_operaciones_con_ganancia():\n",
        "    df_ventas_limpio\n",
        "    df_ventas_limpio = df_ventas_limpio[df_ventas_limpio['total_ganancia'] > 0]\n",
        "    filtrar_operaciones_con_ganancia()\n",
        "    df_ventas_limpio\n",
        "\n",
        "\n",
        "def resetear_indice():\n",
        "    df_ventas_limpio\n",
        "    df_ventas_limpio = df_ventas_limpio.reset_index(drop=True)\n",
        "    resetear_indice()\n",
        "    df_ventas_limpio\n"
      ],
      "metadata": {
        "id": "zrF-7xvo7Sin"
      },
      "execution_count": 50,
      "outputs": []
    }
  ]
}